{
 "cells": [
  {
   "cell_type": "markdown",
   "metadata": {},
   "source": [
    "# Predicting the Price of a Stock "
   ]
  },
  {
   "cell_type": "code",
   "execution_count": 27,
   "metadata": {},
   "outputs": [],
   "source": [
    "#import libraries\n",
    "import math\n",
    "import pandas_datareader as web\n",
    "import numpy as np\n",
    "import pandas as pd\n",
    "from sklearn.preprocessing import MinMaxScaler\n",
    "import pandas_datareader as web\n",
    "from keras.models import Sequential\n",
    "from keras.layers import Dense, LSTM\n",
    "import matplotlib.pyplot as plt\n",
    "plt.style.use('fivethirtyeight')\n"
   ]
  },
  {
   "cell_type": "code",
   "execution_count": 5,
   "metadata": {},
   "outputs": [
    {
     "data": {
      "text/html": [
       "<div>\n",
       "<style scoped>\n",
       "    .dataframe tbody tr th:only-of-type {\n",
       "        vertical-align: middle;\n",
       "    }\n",
       "\n",
       "    .dataframe tbody tr th {\n",
       "        vertical-align: top;\n",
       "    }\n",
       "\n",
       "    .dataframe thead th {\n",
       "        text-align: right;\n",
       "    }\n",
       "</style>\n",
       "<table border=\"1\" class=\"dataframe\">\n",
       "  <thead>\n",
       "    <tr style=\"text-align: right;\">\n",
       "      <th></th>\n",
       "      <th>High</th>\n",
       "      <th>Low</th>\n",
       "      <th>Open</th>\n",
       "      <th>Close</th>\n",
       "      <th>Volume</th>\n",
       "      <th>Adj Close</th>\n",
       "    </tr>\n",
       "    <tr>\n",
       "      <th>Date</th>\n",
       "      <th></th>\n",
       "      <th></th>\n",
       "      <th></th>\n",
       "      <th></th>\n",
       "      <th></th>\n",
       "      <th></th>\n",
       "    </tr>\n",
       "  </thead>\n",
       "  <tbody>\n",
       "    <tr>\n",
       "      <th>2012-01-03</th>\n",
       "      <td>5.900000</td>\n",
       "      <td>5.530000</td>\n",
       "      <td>5.788000</td>\n",
       "      <td>5.616000</td>\n",
       "      <td>4640500.0</td>\n",
       "      <td>5.616000</td>\n",
       "    </tr>\n",
       "    <tr>\n",
       "      <th>2012-01-04</th>\n",
       "      <td>5.734000</td>\n",
       "      <td>5.500000</td>\n",
       "      <td>5.642000</td>\n",
       "      <td>5.542000</td>\n",
       "      <td>3150500.0</td>\n",
       "      <td>5.542000</td>\n",
       "    </tr>\n",
       "    <tr>\n",
       "      <th>2012-01-05</th>\n",
       "      <td>5.586000</td>\n",
       "      <td>5.370000</td>\n",
       "      <td>5.552000</td>\n",
       "      <td>5.424000</td>\n",
       "      <td>5027500.0</td>\n",
       "      <td>5.424000</td>\n",
       "    </tr>\n",
       "    <tr>\n",
       "      <th>2012-01-06</th>\n",
       "      <td>5.558000</td>\n",
       "      <td>5.282000</td>\n",
       "      <td>5.440000</td>\n",
       "      <td>5.382000</td>\n",
       "      <td>4931500.0</td>\n",
       "      <td>5.382000</td>\n",
       "    </tr>\n",
       "    <tr>\n",
       "      <th>2012-01-09</th>\n",
       "      <td>5.498000</td>\n",
       "      <td>5.224000</td>\n",
       "      <td>5.400000</td>\n",
       "      <td>5.450000</td>\n",
       "      <td>4485000.0</td>\n",
       "      <td>5.450000</td>\n",
       "    </tr>\n",
       "    <tr>\n",
       "      <th>...</th>\n",
       "      <td>...</td>\n",
       "      <td>...</td>\n",
       "      <td>...</td>\n",
       "      <td>...</td>\n",
       "      <td>...</td>\n",
       "      <td>...</td>\n",
       "    </tr>\n",
       "    <tr>\n",
       "      <th>2020-12-11</th>\n",
       "      <td>624.000000</td>\n",
       "      <td>596.799988</td>\n",
       "      <td>615.010010</td>\n",
       "      <td>609.989990</td>\n",
       "      <td>46475000.0</td>\n",
       "      <td>609.989990</td>\n",
       "    </tr>\n",
       "    <tr>\n",
       "      <th>2020-12-14</th>\n",
       "      <td>642.750000</td>\n",
       "      <td>610.200012</td>\n",
       "      <td>619.000000</td>\n",
       "      <td>639.830017</td>\n",
       "      <td>52040600.0</td>\n",
       "      <td>639.830017</td>\n",
       "    </tr>\n",
       "    <tr>\n",
       "      <th>2020-12-15</th>\n",
       "      <td>646.900024</td>\n",
       "      <td>623.799988</td>\n",
       "      <td>643.280029</td>\n",
       "      <td>633.250000</td>\n",
       "      <td>45071500.0</td>\n",
       "      <td>633.250000</td>\n",
       "    </tr>\n",
       "    <tr>\n",
       "      <th>2020-12-16</th>\n",
       "      <td>632.500000</td>\n",
       "      <td>605.000000</td>\n",
       "      <td>628.229980</td>\n",
       "      <td>622.770020</td>\n",
       "      <td>42095800.0</td>\n",
       "      <td>622.770020</td>\n",
       "    </tr>\n",
       "    <tr>\n",
       "      <th>2020-12-17</th>\n",
       "      <td>658.820007</td>\n",
       "      <td>619.500000</td>\n",
       "      <td>628.190002</td>\n",
       "      <td>655.900024</td>\n",
       "      <td>56270100.0</td>\n",
       "      <td>655.900024</td>\n",
       "    </tr>\n",
       "  </tbody>\n",
       "</table>\n",
       "<p>2256 rows × 6 columns</p>\n",
       "</div>"
      ],
      "text/plain": [
       "                  High         Low        Open       Close      Volume  \\\n",
       "Date                                                                     \n",
       "2012-01-03    5.900000    5.530000    5.788000    5.616000   4640500.0   \n",
       "2012-01-04    5.734000    5.500000    5.642000    5.542000   3150500.0   \n",
       "2012-01-05    5.586000    5.370000    5.552000    5.424000   5027500.0   \n",
       "2012-01-06    5.558000    5.282000    5.440000    5.382000   4931500.0   \n",
       "2012-01-09    5.498000    5.224000    5.400000    5.450000   4485000.0   \n",
       "...                ...         ...         ...         ...         ...   \n",
       "2020-12-11  624.000000  596.799988  615.010010  609.989990  46475000.0   \n",
       "2020-12-14  642.750000  610.200012  619.000000  639.830017  52040600.0   \n",
       "2020-12-15  646.900024  623.799988  643.280029  633.250000  45071500.0   \n",
       "2020-12-16  632.500000  605.000000  628.229980  622.770020  42095800.0   \n",
       "2020-12-17  658.820007  619.500000  628.190002  655.900024  56270100.0   \n",
       "\n",
       "             Adj Close  \n",
       "Date                    \n",
       "2012-01-03    5.616000  \n",
       "2012-01-04    5.542000  \n",
       "2012-01-05    5.424000  \n",
       "2012-01-06    5.382000  \n",
       "2012-01-09    5.450000  \n",
       "...                ...  \n",
       "2020-12-11  609.989990  \n",
       "2020-12-14  639.830017  \n",
       "2020-12-15  633.250000  \n",
       "2020-12-16  622.770020  \n",
       "2020-12-17  655.900024  \n",
       "\n",
       "[2256 rows x 6 columns]"
      ]
     },
     "execution_count": 5,
     "metadata": {},
     "output_type": "execute_result"
    }
   ],
   "source": [
    "#Get the stock quote from yahoo \n",
    "df = web.DataReader('TSLA', data_source = 'yahoo', start='2012-01-02', end='2020-12-17')\n",
    "#Show the data\n",
    "df"
   ]
  },
  {
   "cell_type": "code",
   "execution_count": 6,
   "metadata": {},
   "outputs": [
    {
     "data": {
      "text/plain": [
       "(2256, 6)"
      ]
     },
     "execution_count": 6,
     "metadata": {},
     "output_type": "execute_result"
    }
   ],
   "source": [
    "#Get the number of rows and columns in the data set \n",
    "df.shape "
   ]
  },
  {
   "cell_type": "code",
   "execution_count": 7,
   "metadata": {},
   "outputs": [
    {
     "data": {
      "image/png": "[encoded data removed]",
      "text/plain": [
       "<Figure size 1152x576 with 1 Axes>"
      ]
     },
     "metadata": {
      "needs_background": "light"
     },
     "output_type": "display_data"
    }
   ],
   "source": [
    "#Visualize the closing price history \n",
    "plt.figure(figsize=(16,8))\n",
    "plt.title('Close Price History')\n",
    "plt.plot(df['Close'])\n",
    "plt.xlabel('Date', fontsize=18)\n",
    "plt.ylabel('Close Price USD ($)')\n",
    "plt.show()"
   ]
  },
  {
   "cell_type": "code",
   "execution_count": 8,
   "metadata": {},
   "outputs": [
    {
     "data": {
      "text/html": [
       "<div>\n",
       "<style scoped>\n",
       "    .dataframe tbody tr th:only-of-type {\n",
       "        vertical-align: middle;\n",
       "    }\n",
       "\n",
       "    .dataframe tbody tr th {\n",
       "        vertical-align: top;\n",
       "    }\n",
       "\n",
       "    .dataframe thead th {\n",
       "        text-align: right;\n",
       "    }\n",
       "</style>\n",
       "<table border=\"1\" class=\"dataframe\">\n",
       "  <thead>\n",
       "    <tr style=\"text-align: right;\">\n",
       "      <th></th>\n",
       "      <th>Close</th>\n",
       "    </tr>\n",
       "    <tr>\n",
       "      <th>Date</th>\n",
       "      <th></th>\n",
       "    </tr>\n",
       "  </thead>\n",
       "  <tbody>\n",
       "    <tr>\n",
       "      <th>2012-01-03</th>\n",
       "      <td>NaN</td>\n",
       "    </tr>\n",
       "    <tr>\n",
       "      <th>2012-01-04</th>\n",
       "      <td>NaN</td>\n",
       "    </tr>\n",
       "    <tr>\n",
       "      <th>2012-01-05</th>\n",
       "      <td>NaN</td>\n",
       "    </tr>\n",
       "    <tr>\n",
       "      <th>2012-01-06</th>\n",
       "      <td>NaN</td>\n",
       "    </tr>\n",
       "    <tr>\n",
       "      <th>2012-01-09</th>\n",
       "      <td>NaN</td>\n",
       "    </tr>\n",
       "    <tr>\n",
       "      <th>...</th>\n",
       "      <td>...</td>\n",
       "    </tr>\n",
       "    <tr>\n",
       "      <th>2020-12-11</th>\n",
       "      <td>505.982332</td>\n",
       "    </tr>\n",
       "    <tr>\n",
       "      <th>2020-12-14</th>\n",
       "      <td>514.375333</td>\n",
       "    </tr>\n",
       "    <tr>\n",
       "      <th>2020-12-15</th>\n",
       "      <td>522.133332</td>\n",
       "    </tr>\n",
       "    <tr>\n",
       "      <th>2020-12-16</th>\n",
       "      <td>528.762333</td>\n",
       "    </tr>\n",
       "    <tr>\n",
       "      <th>2020-12-17</th>\n",
       "      <td>536.593000</td>\n",
       "    </tr>\n",
       "  </tbody>\n",
       "</table>\n",
       "<p>2256 rows × 1 columns</p>\n",
       "</div>"
      ],
      "text/plain": [
       "                 Close\n",
       "Date                  \n",
       "2012-01-03         NaN\n",
       "2012-01-04         NaN\n",
       "2012-01-05         NaN\n",
       "2012-01-06         NaN\n",
       "2012-01-09         NaN\n",
       "...                ...\n",
       "2020-12-11  505.982332\n",
       "2020-12-14  514.375333\n",
       "2020-12-15  522.133332\n",
       "2020-12-16  528.762333\n",
       "2020-12-17  536.593000\n",
       "\n",
       "[2256 rows x 1 columns]"
      ]
     },
     "execution_count": 8,
     "metadata": {},
     "output_type": "execute_result"
    }
   ],
   "source": [
    "#Create the simple moving average with a 30 day window\n",
    "SMA30 = pd.DataFrame()\n",
    "SMA30['Close'] = df['Close'].rolling(window=30).mean()\n",
    "SMA30"
   ]
  },
  {
   "cell_type": "code",
   "execution_count": 9,
   "metadata": {},
   "outputs": [
    {
     "data": {
      "text/html": [
       "<div>\n",
       "<style scoped>\n",
       "    .dataframe tbody tr th:only-of-type {\n",
       "        vertical-align: middle;\n",
       "    }\n",
       "\n",
       "    .dataframe tbody tr th {\n",
       "        vertical-align: top;\n",
       "    }\n",
       "\n",
       "    .dataframe thead th {\n",
       "        text-align: right;\n",
       "    }\n",
       "</style>\n",
       "<table border=\"1\" class=\"dataframe\">\n",
       "  <thead>\n",
       "    <tr style=\"text-align: right;\">\n",
       "      <th></th>\n",
       "      <th>Close</th>\n",
       "    </tr>\n",
       "    <tr>\n",
       "      <th>Date</th>\n",
       "      <th></th>\n",
       "    </tr>\n",
       "  </thead>\n",
       "  <tbody>\n",
       "    <tr>\n",
       "      <th>2012-01-03</th>\n",
       "      <td>NaN</td>\n",
       "    </tr>\n",
       "    <tr>\n",
       "      <th>2012-01-04</th>\n",
       "      <td>NaN</td>\n",
       "    </tr>\n",
       "    <tr>\n",
       "      <th>2012-01-05</th>\n",
       "      <td>NaN</td>\n",
       "    </tr>\n",
       "    <tr>\n",
       "      <th>2012-01-06</th>\n",
       "      <td>NaN</td>\n",
       "    </tr>\n",
       "    <tr>\n",
       "      <th>2012-01-09</th>\n",
       "      <td>NaN</td>\n",
       "    </tr>\n",
       "    <tr>\n",
       "      <th>...</th>\n",
       "      <td>...</td>\n",
       "    </tr>\n",
       "    <tr>\n",
       "      <th>2020-12-11</th>\n",
       "      <td>439.369888</td>\n",
       "    </tr>\n",
       "    <tr>\n",
       "      <th>2020-12-14</th>\n",
       "      <td>443.168933</td>\n",
       "    </tr>\n",
       "    <tr>\n",
       "      <th>2020-12-15</th>\n",
       "      <td>446.976800</td>\n",
       "    </tr>\n",
       "    <tr>\n",
       "      <th>2020-12-16</th>\n",
       "      <td>450.744089</td>\n",
       "    </tr>\n",
       "    <tr>\n",
       "      <th>2020-12-17</th>\n",
       "      <td>454.977667</td>\n",
       "    </tr>\n",
       "  </tbody>\n",
       "</table>\n",
       "<p>2256 rows × 1 columns</p>\n",
       "</div>"
      ],
      "text/plain": [
       "                 Close\n",
       "Date                  \n",
       "2012-01-03         NaN\n",
       "2012-01-04         NaN\n",
       "2012-01-05         NaN\n",
       "2012-01-06         NaN\n",
       "2012-01-09         NaN\n",
       "...                ...\n",
       "2020-12-11  439.369888\n",
       "2020-12-14  443.168933\n",
       "2020-12-15  446.976800\n",
       "2020-12-16  450.744089\n",
       "2020-12-17  454.977667\n",
       "\n",
       "[2256 rows x 1 columns]"
      ]
     },
     "execution_count": 9,
     "metadata": {},
     "output_type": "execute_result"
    }
   ],
   "source": [
    "#Create the simple moving average with a 90 day window\n",
    "SMA90 = pd.DataFrame()\n",
    "SMA90['Close'] = df['Close'].rolling(window=90).mean()\n",
    "SMA90"
   ]
  },
  {
   "cell_type": "code",
   "execution_count": 10,
   "metadata": {},
   "outputs": [
    {
     "data": {
      "image/png": "[encoded data removed]",
      "text/plain": [
       "<Figure size 1152x576 with 1 Axes>"
      ]
     },
     "metadata": {
      "needs_background": "light"
     },
     "output_type": "display_data"
    }
   ],
   "source": [
    "#Visualize the closing price history and determining buying points \n",
    "plt.figure(figsize=(16,8))\n",
    "plt.title('Moving Averages')\n",
    "plt.plot(df['Close'], label = 'TSLA')\n",
    "plt.plot(SMA30['Close'], label = 'SMA30')\n",
    "plt.plot(SMA90['Close'], label = 'SMA90')\n",
    "plt.xlabel('Date', fontsize=18)\n",
    "plt.ylabel('Close Price USD ($)')\n",
    "plt.legend(loc=('upper left'))\n",
    "plt.show()"
   ]
  },
  {
   "cell_type": "code",
   "execution_count": 11,
   "metadata": {},
   "outputs": [
    {
     "data": {
      "text/plain": [
       "1805"
      ]
     },
     "execution_count": 11,
     "metadata": {},
     "output_type": "execute_result"
    }
   ],
   "source": [
    "#Create a new dataframe with only the Close column \n",
    "data = df.filter(['Close'])\n",
    "#Convert the dataframe to a numpy array \n",
    "dataset = data.values\n",
    "#Get the number of rows to train the model on\n",
    "training_data_len = math.ceil( len(dataset) * .8 )\n",
    "\n",
    "training_data_len"
   ]
  },
  {
   "cell_type": "code",
   "execution_count": 12,
   "metadata": {},
   "outputs": [
    {
     "data": {
      "text/plain": [
       "array([[0.00162434],\n",
       "       [0.00151073],\n",
       "       [0.00132956],\n",
       "       ...,\n",
       "       [0.96522561],\n",
       "       [0.94913578],\n",
       "       [1.        ]])"
      ]
     },
     "execution_count": 12,
     "metadata": {},
     "output_type": "execute_result"
    }
   ],
   "source": [
    "#Scale the data\n",
    "scaler = MinMaxScaler(feature_range=(0,1))\n",
    "scaled_data = scaler.fit_transform(dataset)\n",
    "scaled_data"
   ]
  },
  {
   "cell_type": "code",
   "execution_count": 13,
   "metadata": {},
   "outputs": [
    {
     "name": "stdout",
     "output_type": "stream",
     "text": [
      "[array([0.00162434, 0.00151073, 0.00132956, 0.00126508, 0.00136948,\n",
      "       0.00148309, 0.0016704 , 0.00167654, 0.        , 0.00116989,\n",
      "       0.00123437, 0.00121902, 0.00116989, 0.00122209, 0.00142168,\n",
      "       0.00159056, 0.00188841, 0.00200816, 0.00208186, 0.00192833,\n",
      "       0.00208493, 0.00229066, 0.00256701, 0.0027666 , 0.00270518,\n",
      "       0.00280651, 0.0030061 , 0.00255165, 0.00267141, 0.00318727,\n",
      "       0.0033193 , 0.00349739, 0.00373997, 0.00359565, 0.00350968,\n",
      "       0.00360486, 0.00336536, 0.00332544, 0.00338378, 0.00326096,\n",
      "       0.00356802, 0.00345441, 0.0033715 , 0.00316884, 0.00317191,\n",
      "       0.00315656, 0.00366935, 0.00405931, 0.00408388, 0.00383823,\n",
      "       0.00374918, 0.00384744, 0.00374304, 0.0037369 , 0.00379524,\n",
      "       0.00356495, 0.00346669, 0.00448612, 0.00465193, 0.0046243 ])]\n",
      "[0.004464628234879081]\n",
      "\n",
      "[array([0.00162434, 0.00151073, 0.00132956, 0.00126508, 0.00136948,\n",
      "       0.00148309, 0.0016704 , 0.00167654, 0.        , 0.00116989,\n",
      "       0.00123437, 0.00121902, 0.00116989, 0.00122209, 0.00142168,\n",
      "       0.00159056, 0.00188841, 0.00200816, 0.00208186, 0.00192833,\n",
      "       0.00208493, 0.00229066, 0.00256701, 0.0027666 , 0.00270518,\n",
      "       0.00280651, 0.0030061 , 0.00255165, 0.00267141, 0.00318727,\n",
      "       0.0033193 , 0.00349739, 0.00373997, 0.00359565, 0.00350968,\n",
      "       0.00360486, 0.00336536, 0.00332544, 0.00338378, 0.00326096,\n",
      "       0.00356802, 0.00345441, 0.0033715 , 0.00316884, 0.00317191,\n",
      "       0.00315656, 0.00366935, 0.00405931, 0.00408388, 0.00383823,\n",
      "       0.00374918, 0.00384744, 0.00374304, 0.0037369 , 0.00379524,\n",
      "       0.00356495, 0.00346669, 0.00448612, 0.00465193, 0.0046243 ]), array([0.00151073, 0.00132956, 0.00126508, 0.00136948, 0.00148309,\n",
      "       0.0016704 , 0.00167654, 0.        , 0.00116989, 0.00123437,\n",
      "       0.00121902, 0.00116989, 0.00122209, 0.00142168, 0.00159056,\n",
      "       0.00188841, 0.00200816, 0.00208186, 0.00192833, 0.00208493,\n",
      "       0.00229066, 0.00256701, 0.0027666 , 0.00270518, 0.00280651,\n",
      "       0.0030061 , 0.00255165, 0.00267141, 0.00318727, 0.0033193 ,\n",
      "       0.00349739, 0.00373997, 0.00359565, 0.00350968, 0.00360486,\n",
      "       0.00336536, 0.00332544, 0.00338378, 0.00326096, 0.00356802,\n",
      "       0.00345441, 0.0033715 , 0.00316884, 0.00317191, 0.00315656,\n",
      "       0.00366935, 0.00405931, 0.00408388, 0.00383823, 0.00374918,\n",
      "       0.00384744, 0.00374304, 0.0037369 , 0.00379524, 0.00356495,\n",
      "       0.00346669, 0.00448612, 0.00465193, 0.0046243 , 0.00446463])]\n",
      "[0.004464628234879081, 0.0044369927911141445]\n",
      "\n"
     ]
    }
   ],
   "source": [
    "#Create the training data set \n",
    "#Create the scaled training data set \n",
    "train_data = scaled_data[0:training_data_len, :]\n",
    "#Split the data into x_train and y_train data sets\n",
    "x_train = []\n",
    "y_train = []\n",
    "\n",
    "for i in range(60, len(train_data)):\n",
    "    x_train.append(train_data[i-60:i, 0])\n",
    "    y_train.append(train_data[i,0])\n",
    "    if i<= 61:\n",
    "        print(x_train)\n",
    "        print(y_train)\n",
    "        print()\n"
   ]
  },
  {
   "cell_type": "code",
   "execution_count": 14,
   "metadata": {},
   "outputs": [
    {
     "data": {
      "text/plain": [
       "(1745, 60)"
      ]
     },
     "execution_count": 14,
     "metadata": {},
     "output_type": "execute_result"
    }
   ],
   "source": [
    "#Convert the x_train and y_train to numpy arrays\n",
    "x_train, y_train = np.array (x_train),np.array(y_train)\n",
    "x_train.shape"
   ]
  },
  {
   "cell_type": "code",
   "execution_count": 15,
   "metadata": {},
   "outputs": [
    {
     "data": {
      "text/plain": [
       "(1745, 60, 1)"
      ]
     },
     "execution_count": 15,
     "metadata": {},
     "output_type": "execute_result"
    }
   ],
   "source": [
    "#Reshape the data from two dimensions to three dimensions \n",
    "x_train = np.reshape(x_train, (x_train.shape[0], x_train.shape[1], 1))\n",
    "x_train.shape"
   ]
  },
  {
   "cell_type": "code",
   "execution_count": 16,
   "metadata": {},
   "outputs": [],
   "source": [
    "#Build the LSTM model by creating layers with different number of neurons \n",
    "model = Sequential ()\n",
    "model.add (LSTM (50, return_sequences=True, input_shape=(x_train.shape[1], 1)))\n",
    "model.add (LSTM(50, return_sequences = False))\n",
    "model.add(Dense(25))\n",
    "model.add(Dense(1))"
   ]
  },
  {
   "cell_type": "code",
   "execution_count": 17,
   "metadata": {},
   "outputs": [],
   "source": [
    "#Compile the model #loss shows how well the model did \n",
    "model.compile(optimizer = 'adam', loss='mean_squared_error')"
   ]
  },
  {
   "cell_type": "code",
   "execution_count": 18,
   "metadata": {},
   "outputs": [
    {
     "name": "stdout",
     "output_type": "stream",
     "text": [
      "Epoch 1/1\n",
      "1745/1745 [==============================] - 268s 154ms/step - loss: 5.6243e-05\n"
     ]
    },
    {
     "data": {
      "text/plain": [
       "<keras.callbacks.callbacks.History at 0x292461c7cc8>"
      ]
     },
     "execution_count": 18,
     "metadata": {},
     "output_type": "execute_result"
    }
   ],
   "source": [
    "#train the model\n",
    "model.fit(x_train, y_train, batch_size=1, epochs=1)"
   ]
  },
  {
   "cell_type": "code",
   "execution_count": 19,
   "metadata": {},
   "outputs": [],
   "source": [
    "#Create the testing data set \n",
    "#Create a new array containing scaled values from index 1543 to 2003\n",
    "test_data = scaled_data[training_data_len - 60:, :]\n",
    "#Create a data sets x_test and y_test \n",
    "x_test = []\n",
    "y_test = dataset [training_data_len:, :]\n",
    "for i in range(60, len(test_data)):\n",
    "    x_test.append(test_data[i-60:i, 0])\n",
    "    "
   ]
  },
  {
   "cell_type": "code",
   "execution_count": 20,
   "metadata": {},
   "outputs": [],
   "source": [
    "#Convert the data to a numpy array\n",
    "x_test = np.array(x_test)\n"
   ]
  },
  {
   "cell_type": "code",
   "execution_count": 21,
   "metadata": {},
   "outputs": [],
   "source": [
    "#Reshape the data to three dimensions\n",
    "x_test = np.reshape(x_test, (x_test.shape[0], x_test.shape[1], 1 ))\n"
   ]
  },
  {
   "cell_type": "code",
   "execution_count": 22,
   "metadata": {},
   "outputs": [],
   "source": [
    "#Get the models predicted price values \n",
    "predictions = model.predict(x_test)\n",
    "predictions = scaler.inverse_transform(predictions)"
   ]
  },
  {
   "cell_type": "code",
   "execution_count": 23,
   "metadata": {},
   "outputs": [
    {
     "data": {
      "text/plain": [
       "30.272512482433783"
      ]
     },
     "execution_count": 23,
     "metadata": {},
     "output_type": "execute_result"
    }
   ],
   "source": [
    "#Get the root mean squared error (RMSE) #A value 0 is perfect zero score \n",
    "rmse = np.sqrt ( np.mean( predictions - y_test)**2)\n",
    "rmse "
   ]
  },
  {
   "cell_type": "code",
   "execution_count": 24,
   "metadata": {},
   "outputs": [
    {
     "name": "stderr",
     "output_type": "stream",
     "text": [
      "C:\\Users\\nasir\\Anaconda3\\lib\\site-packages\\ipykernel_launcher.py:4: SettingWithCopyWarning: \n",
      "A value is trying to be set on a copy of a slice from a DataFrame.\n",
      "Try using .loc[row_indexer,col_indexer] = value instead\n",
      "\n",
      "See the caveats in the documentation: https://pandas.pydata.org/pandas-docs/stable/user_guide/indexing.html#returning-a-view-versus-a-copy\n",
      "  after removing the cwd from sys.path.\n"
     ]
    },
    {
     "data": {
      "image/png": "[encoded data removed]",
      "text/plain": [
       "<Figure size 1152x576 with 1 Axes>"
      ]
     },
     "metadata": {
      "needs_background": "light"
     },
     "output_type": "display_data"
    }
   ],
   "source": [
    "#Plot the data\n",
    "train = data[:training_data_len]\n",
    "valid = data[training_data_len:]\n",
    "valid['Predictions'] = predictions\n",
    "#Visualize the data\n",
    "plt.figure(figsize=(16,8))\n",
    "plt.title('Model')\n",
    "plt.xlabel('Date',fontsize=18)\n",
    "plt.ylabel('Close Price USD ($)', fontsize=18)\n",
    "plt.plot(train['Close'])\n",
    "plt.plot(valid[['Close', 'Predictions']])\n",
    "plt.legend(['Train', 'Val', 'Predictions'], loc='upper left')\n",
    "plt.show()"
   ]
  },
  {
   "cell_type": "code",
   "execution_count": 25,
   "metadata": {},
   "outputs": [
    {
     "data": {
      "text/html": [
       "<div>\n",
       "<style scoped>\n",
       "    .dataframe tbody tr th:only-of-type {\n",
       "        vertical-align: middle;\n",
       "    }\n",
       "\n",
       "    .dataframe tbody tr th {\n",
       "        vertical-align: top;\n",
       "    }\n",
       "\n",
       "    .dataframe thead th {\n",
       "        text-align: right;\n",
       "    }\n",
       "</style>\n",
       "<table border=\"1\" class=\"dataframe\">\n",
       "  <thead>\n",
       "    <tr style=\"text-align: right;\">\n",
       "      <th></th>\n",
       "      <th>Close</th>\n",
       "      <th>Predictions</th>\n",
       "    </tr>\n",
       "    <tr>\n",
       "      <th>Date</th>\n",
       "      <th></th>\n",
       "      <th></th>\n",
       "    </tr>\n",
       "  </thead>\n",
       "  <tbody>\n",
       "    <tr>\n",
       "      <th>2019-03-08</th>\n",
       "      <td>56.827999</td>\n",
       "      <td>57.418037</td>\n",
       "    </tr>\n",
       "    <tr>\n",
       "      <th>2019-03-11</th>\n",
       "      <td>58.183998</td>\n",
       "      <td>56.961155</td>\n",
       "    </tr>\n",
       "    <tr>\n",
       "      <th>2019-03-12</th>\n",
       "      <td>56.672001</td>\n",
       "      <td>56.885040</td>\n",
       "    </tr>\n",
       "    <tr>\n",
       "      <th>2019-03-13</th>\n",
       "      <td>57.792000</td>\n",
       "      <td>56.814617</td>\n",
       "    </tr>\n",
       "    <tr>\n",
       "      <th>2019-03-14</th>\n",
       "      <td>57.992001</td>\n",
       "      <td>56.893845</td>\n",
       "    </tr>\n",
       "    <tr>\n",
       "      <th>...</th>\n",
       "      <td>...</td>\n",
       "      <td>...</td>\n",
       "    </tr>\n",
       "    <tr>\n",
       "      <th>2020-12-11</th>\n",
       "      <td>609.989990</td>\n",
       "      <td>448.765320</td>\n",
       "    </tr>\n",
       "    <tr>\n",
       "      <th>2020-12-14</th>\n",
       "      <td>639.830017</td>\n",
       "      <td>448.807068</td>\n",
       "    </tr>\n",
       "    <tr>\n",
       "      <th>2020-12-15</th>\n",
       "      <td>633.250000</td>\n",
       "      <td>450.822968</td>\n",
       "    </tr>\n",
       "    <tr>\n",
       "      <th>2020-12-16</th>\n",
       "      <td>622.770020</td>\n",
       "      <td>452.499603</td>\n",
       "    </tr>\n",
       "    <tr>\n",
       "      <th>2020-12-17</th>\n",
       "      <td>655.900024</td>\n",
       "      <td>452.809814</td>\n",
       "    </tr>\n",
       "  </tbody>\n",
       "</table>\n",
       "<p>451 rows × 2 columns</p>\n",
       "</div>"
      ],
      "text/plain": [
       "                 Close  Predictions\n",
       "Date                               \n",
       "2019-03-08   56.827999    57.418037\n",
       "2019-03-11   58.183998    56.961155\n",
       "2019-03-12   56.672001    56.885040\n",
       "2019-03-13   57.792000    56.814617\n",
       "2019-03-14   57.992001    56.893845\n",
       "...                ...          ...\n",
       "2020-12-11  609.989990   448.765320\n",
       "2020-12-14  639.830017   448.807068\n",
       "2020-12-15  633.250000   450.822968\n",
       "2020-12-16  622.770020   452.499603\n",
       "2020-12-17  655.900024   452.809814\n",
       "\n",
       "[451 rows x 2 columns]"
      ]
     },
     "execution_count": 25,
     "metadata": {},
     "output_type": "execute_result"
    }
   ],
   "source": [
    "#Show the valid and predicted prices\n",
    "valid"
   ]
  },
  {
   "cell_type": "code",
   "execution_count": 35,
   "metadata": {},
   "outputs": [
    {
     "name": "stdout",
     "output_type": "stream",
     "text": [
      "[[65.715256]]\n"
     ]
    }
   ],
   "source": [
    "#Get the quote \n",
    "apple_quote = web.DataReader('TSLA', data_source='yahoo',start='2018-01-03',end='2019-1-13')\n",
    "#Create a new dataframe\n",
    "new_df = apple_quote.filter(['Close'])\n",
    "#Get the last 60 days closing price values and convert the dataframe to an array\n",
    "last_60_days = new_df[-60:].values\n",
    "#Scale the data to be values between 0 and 1\n",
    "last_60_days_scaled = scaler.transform(last_60_days)\n",
    "#Create an empty list list\n",
    "X_test = []\n",
    "#Append the past 60 days\n",
    "X_test.append(last_60_days_scaled)\n",
    "#Convert the X-test data set to a numpy array\n",
    "X_test = np.array(X_test)\n",
    "#Reshape the data\n",
    "X_test = np.reshape(X_test, (X_test.shape[0], X_test.shape[1],1))\n",
    "#Get the predicted scaled price\n",
    "pred_price = model.predict(X_test)\n",
    "#Undo the scaling\n",
    "pred_price = scaler.inverse_transform(pred_price)\n",
    "print(pred_price)\n"
   ]
  },
  {
   "cell_type": "code",
   "execution_count": 36,
   "metadata": {},
   "outputs": [
    {
     "name": "stdout",
     "output_type": "stream",
     "text": [
      "Date\n",
      "2019-01-14    37.5\n",
      "Name: Close, dtype: float64\n"
     ]
    }
   ],
   "source": [
    "#Get the quote \n",
    "apple_quote2 = web.DataReader('AAPL', data_source='yahoo', start='2019-1-14', end='2019-1-14')\n",
    "print(apple_quote2['Close'])"
   ]
  }
 ],
 "metadata": {
  "kernelspec": {
   "display_name": "Python 3",
   "language": "python",
   "name": "python3"
  },
  "language_info": {
   "codemirror_mode": {
    "name": "ipython",
    "version": 3
   },
   "file_extension": ".py",
   "mimetype": "text/x-python",
   "name": "python",
   "nbconvert_exporter": "python",
   "pygments_lexer": "ipython3",
   "version": "3.7.4"
  }
 },
 "nbformat": 4,
 "nbformat_minor": 2
}
